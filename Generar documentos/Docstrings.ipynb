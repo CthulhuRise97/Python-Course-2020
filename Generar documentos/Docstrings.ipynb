{
 "cells": [
  {
   "cell_type": "code",
   "execution_count": 1,
   "metadata": {},
   "outputs": [],
   "source": [
    "def saludar(nombre):\n",
    "    \"\"\"\n",
    "    Esto será un comentario de la funcion saludar.\n",
    "    Esta funcion recibirá como parametro una cadenacon el nombre e\n",
    "    imprimirá por pantalla un saludo con el nombre concatenado\n",
    "    \"\"\"\n",
    "    print(\"Buenos días \" + nombre)"
   ]
  },
  {
   "cell_type": "code",
   "execution_count": 2,
   "metadata": {},
   "outputs": [
    {
     "name": "stdout",
     "output_type": "stream",
     "text": [
      "Buenos días Antonio\n"
     ]
    }
   ],
   "source": [
    "saludar(\"Antonio\")"
   ]
  },
  {
   "cell_type": "code",
   "execution_count": 3,
   "metadata": {},
   "outputs": [
    {
     "name": "stdout",
     "output_type": "stream",
     "text": [
      "Help on function saludar in module __main__:\n",
      "\n",
      "saludar(nombre)\n",
      "    Esto será un comentario de la funcion saludar.\n",
      "    Esta funcion recibirá como parametro una cadenacon el nombre e\n",
      "    imprimirá por pantalla un saludo con el nombre concatenado\n",
      "\n"
     ]
    }
   ],
   "source": [
    "help(saludar)"
   ]
  },
  {
   "cell_type": "code",
   "execution_count": 6,
   "metadata": {},
   "outputs": [],
   "source": [
    "class Saludos:\n",
    "    \"\"\"\n",
    "    Esta clase tendrá dos funciones buenos_dias y adios\n",
    "    Ambas funciones recibirán como parámetro un nombre\n",
    "    \"\"\"\n",
    "    def buenos_dias(self,nombre):\n",
    "        \"\"\" Esta funcion sirve para decir buenos dias a una persona \"\"\"\n",
    "        print(\"Buenos días {}\".format(nombre))\n",
    "    def adios(self,nombre):\n",
    "        \"\"\" Esta funcion sirve para decir adios a una persona \"\"\"\n",
    "        print(\"Adios {}\".format(nombre))"
   ]
  },
  {
   "cell_type": "code",
   "execution_count": 7,
   "metadata": {},
   "outputs": [
    {
     "name": "stdout",
     "output_type": "stream",
     "text": [
      "Buenos días Fernando\n"
     ]
    }
   ],
   "source": [
    "saludo = Saludos()\n",
    "saludo.buenos_dias(\"Fernando\")"
   ]
  },
  {
   "cell_type": "code",
   "execution_count": 8,
   "metadata": {},
   "outputs": [
    {
     "name": "stdout",
     "output_type": "stream",
     "text": [
      "Help on class Saludos in module __main__:\n",
      "\n",
      "class Saludos(builtins.object)\n",
      " |  Esta clase tendrá dos funciones buenos_dias y adios\n",
      " |  Ambas funciones recibirán como parámetro un nombre\n",
      " |  \n",
      " |  Methods defined here:\n",
      " |  \n",
      " |  adios(self, nombre)\n",
      " |      Esta funcion sirve para decir adios a una persona\n",
      " |  \n",
      " |  buenos_dias(self, nombre)\n",
      " |      Esta funcion sirve para decir buenos dias a una persona\n",
      " |  \n",
      " |  ----------------------------------------------------------------------\n",
      " |  Data descriptors defined here:\n",
      " |  \n",
      " |  __dict__\n",
      " |      dictionary for instance variables (if defined)\n",
      " |  \n",
      " |  __weakref__\n",
      " |      list of weak references to the object (if defined)\n",
      "\n"
     ]
    }
   ],
   "source": [
    "help(Saludos)"
   ]
  },
  {
   "cell_type": "code",
   "execution_count": 9,
   "metadata": {},
   "outputs": [
    {
     "name": "stdout",
     "output_type": "stream",
     "text": [
      "Help on built-in function print in module builtins:\n",
      "\n",
      "print(...)\n",
      "    print(value, ..., sep=' ', end='\\n', file=sys.stdout, flush=False)\n",
      "    \n",
      "    Prints the values to a stream, or to sys.stdout by default.\n",
      "    Optional keyword arguments:\n",
      "    file:  a file-like object (stream); defaults to the current sys.stdout.\n",
      "    sep:   string inserted between values, default a space.\n",
      "    end:   string appended after the last value, default a newline.\n",
      "    flush: whether to forcibly flush the stream.\n",
      "\n"
     ]
    }
   ],
   "source": [
    "help(print)"
   ]
  },
  {
   "cell_type": "code",
   "execution_count": null,
   "metadata": {},
   "outputs": [],
   "source": []
  }
 ],
 "metadata": {
  "kernelspec": {
   "display_name": "Python 3",
   "language": "python",
   "name": "python3"
  },
  "language_info": {
   "codemirror_mode": {
    "name": "ipython",
    "version": 3
   },
   "file_extension": ".py",
   "mimetype": "text/x-python",
   "name": "python",
   "nbconvert_exporter": "python",
   "pygments_lexer": "ipython3",
   "version": "3.7.7"
  }
 },
 "nbformat": 4,
 "nbformat_minor": 4
}
