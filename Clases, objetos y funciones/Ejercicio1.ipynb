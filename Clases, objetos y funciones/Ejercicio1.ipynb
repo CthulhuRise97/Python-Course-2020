{
 "cells": [
  {
   "cell_type": "code",
   "execution_count": 1,
   "metadata": {},
   "outputs": [],
   "source": [
    "#Ejercicio 1\n",
    "#Crear una clase \"coche\" que tenga estos atributos:\n",
    "#    marca, color, combustible y cilindrada\n",
    "#Crear funcion \"__init__\" que asigna los parametros de la clase a los atributos de la clase\n",
    "#Crear otra funcion \"mostrar_caracteristicas\" que mediante print muestre por pantalla las caracteristicas del coche\n",
    "#Crear objeto \"coche1\" de la clase \"coche\" con los atributos \"Opel\",\"rojo\",\"gasolina\",\"1.6\"\n",
    "#Ejecutar la funcion \"mostrar_caracteristicas\" del objeto \"coche1\""
   ]
  },
  {
   "cell_type": "code",
   "execution_count": 5,
   "metadata": {},
   "outputs": [],
   "source": [
    "class coche:\n",
    "    def __init__(self,marca,color,combustible,cilindrada):\n",
    "        self.marca = marca\n",
    "        self.color = color\n",
    "        self.combustible = combustible\n",
    "        self.cilindrada = cilindrada\n",
    "    \n",
    "    def mostrar_caracteristicas(self):\n",
    "        print(\"Marca: {}\\nColor: {}\\nCombustible: {}\\nCilindrada: {}\".format(self.marca,self.color,self.combustible,self.cilindrada))"
   ]
  },
  {
   "cell_type": "code",
   "execution_count": 6,
   "metadata": {},
   "outputs": [],
   "source": [
    "coche1 = coche(\"Opel\",\"rojo\",\"gasolina\",1.6)"
   ]
  },
  {
   "cell_type": "code",
   "execution_count": 7,
   "metadata": {},
   "outputs": [
    {
     "name": "stdout",
     "output_type": "stream",
     "text": [
      "Marca: Opel\n",
      "Color: rojo\n",
      "Combustible: gasolina\n",
      "Cilindrada: 1.6\n"
     ]
    }
   ],
   "source": [
    "coche1.mostrar_caracteristicas()"
   ]
  },
  {
   "cell_type": "code",
   "execution_count": null,
   "metadata": {},
   "outputs": [],
   "source": []
  }
 ],
 "metadata": {
  "kernelspec": {
   "display_name": "Python 3",
   "language": "python",
   "name": "python3"
  },
  "language_info": {
   "codemirror_mode": {
    "name": "ipython",
    "version": 3
   },
   "file_extension": ".py",
   "mimetype": "text/x-python",
   "name": "python",
   "nbconvert_exporter": "python",
   "pygments_lexer": "ipython3",
   "version": "3.7.7"
  }
 },
 "nbformat": 4,
 "nbformat_minor": 4
}
