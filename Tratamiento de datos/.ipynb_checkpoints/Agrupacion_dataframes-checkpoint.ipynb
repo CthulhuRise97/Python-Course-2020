{
 "cells": [
  {
   "cell_type": "code",
   "execution_count": 1,
   "metadata": {},
   "outputs": [
    {
     "data": {
      "text/plain": [
       "{'clave1': ['x', 'x', 'y', 'y', 'z'],\n",
       " 'clave2': ['a', 'b', 'a', 'b', 'a'],\n",
       " 'datos1': array([0.41036448, 0.9497189 , 0.79259501, 0.0727861 , 0.38285494]),\n",
       " 'datos2': array([0.3482859 , 0.21079748, 0.93178873, 0.69417802, 0.4143558 ])}"
      ]
     },
     "execution_count": 1,
     "metadata": {},
     "output_type": "execute_result"
    }
   ],
   "source": [
    "import pandas as pd\n",
    "import numpy as np\n",
    "\n",
    "lista_valores = {'clave1':['x','x','y','y','z'], 'clave2':['a','b','a','b','a'],\n",
    "                'datos1':np.random.rand(5), 'datos2':np.random.rand(5)}\n",
    "lista_valores"
   ]
  },
  {
   "cell_type": "code",
   "execution_count": 3,
   "metadata": {},
   "outputs": [
    {
     "data": {
      "text/html": [
       "<div>\n",
       "<style scoped>\n",
       "    .dataframe tbody tr th:only-of-type {\n",
       "        vertical-align: middle;\n",
       "    }\n",
       "\n",
       "    .dataframe tbody tr th {\n",
       "        vertical-align: top;\n",
       "    }\n",
       "\n",
       "    .dataframe thead th {\n",
       "        text-align: right;\n",
       "    }\n",
       "</style>\n",
       "<table border=\"1\" class=\"dataframe\">\n",
       "  <thead>\n",
       "    <tr style=\"text-align: right;\">\n",
       "      <th></th>\n",
       "      <th>clave1</th>\n",
       "      <th>clave2</th>\n",
       "      <th>datos1</th>\n",
       "      <th>datos2</th>\n",
       "    </tr>\n",
       "  </thead>\n",
       "  <tbody>\n",
       "    <tr>\n",
       "      <th>0</th>\n",
       "      <td>x</td>\n",
       "      <td>a</td>\n",
       "      <td>0.410364</td>\n",
       "      <td>0.348286</td>\n",
       "    </tr>\n",
       "    <tr>\n",
       "      <th>1</th>\n",
       "      <td>x</td>\n",
       "      <td>b</td>\n",
       "      <td>0.949719</td>\n",
       "      <td>0.210797</td>\n",
       "    </tr>\n",
       "    <tr>\n",
       "      <th>2</th>\n",
       "      <td>y</td>\n",
       "      <td>a</td>\n",
       "      <td>0.792595</td>\n",
       "      <td>0.931789</td>\n",
       "    </tr>\n",
       "    <tr>\n",
       "      <th>3</th>\n",
       "      <td>y</td>\n",
       "      <td>b</td>\n",
       "      <td>0.072786</td>\n",
       "      <td>0.694178</td>\n",
       "    </tr>\n",
       "    <tr>\n",
       "      <th>4</th>\n",
       "      <td>z</td>\n",
       "      <td>a</td>\n",
       "      <td>0.382855</td>\n",
       "      <td>0.414356</td>\n",
       "    </tr>\n",
       "  </tbody>\n",
       "</table>\n",
       "</div>"
      ],
      "text/plain": [
       "  clave1 clave2    datos1    datos2\n",
       "0      x      a  0.410364  0.348286\n",
       "1      x      b  0.949719  0.210797\n",
       "2      y      a  0.792595  0.931789\n",
       "3      y      b  0.072786  0.694178\n",
       "4      z      a  0.382855  0.414356"
      ]
     },
     "execution_count": 3,
     "metadata": {},
     "output_type": "execute_result"
    }
   ],
   "source": [
    "dataframe = pd.DataFrame(lista_valores)\n",
    "dataframe"
   ]
  },
  {
   "cell_type": "code",
   "execution_count": 4,
   "metadata": {},
   "outputs": [
    {
     "data": {
      "text/plain": [
       "<pandas.core.groupby.generic.SeriesGroupBy object at 0x00000258CD8F91C8>"
      ]
     },
     "execution_count": 4,
     "metadata": {},
     "output_type": "execute_result"
    }
   ],
   "source": [
    "grupo1 = dataframe['datos1'].groupby(dataframe['clave1'])\n",
    "grupo1"
   ]
  },
  {
   "cell_type": "code",
   "execution_count": 5,
   "metadata": {},
   "outputs": [
    {
     "data": {
      "text/plain": [
       "clave1\n",
       "x    0.680042\n",
       "y    0.432691\n",
       "z    0.382855\n",
       "Name: datos1, dtype: float64"
      ]
     },
     "execution_count": 5,
     "metadata": {},
     "output_type": "execute_result"
    }
   ],
   "source": [
    "grupo1.mean()"
   ]
  },
  {
   "cell_type": "code",
   "execution_count": null,
   "metadata": {},
   "outputs": [],
   "source": []
  }
 ],
 "metadata": {
  "kernelspec": {
   "display_name": "Python 3",
   "language": "python",
   "name": "python3"
  },
  "language_info": {
   "codemirror_mode": {
    "name": "ipython",
    "version": 3
   },
   "file_extension": ".py",
   "mimetype": "text/x-python",
   "name": "python",
   "nbconvert_exporter": "python",
   "pygments_lexer": "ipython3",
   "version": "3.7.7"
  }
 },
 "nbformat": 4,
 "nbformat_minor": 4
}
