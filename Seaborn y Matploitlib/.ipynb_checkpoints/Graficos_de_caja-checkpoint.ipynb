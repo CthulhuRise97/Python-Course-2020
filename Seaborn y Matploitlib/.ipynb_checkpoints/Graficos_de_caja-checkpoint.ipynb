{
 "cells": [
  {
   "cell_type": "code",
   "execution_count": 1,
   "metadata": {},
   "outputs": [
    {
     "data": {
      "text/plain": [
       "array([-0.87393731,  0.64294193,  0.24096675, -0.22528416,  0.3708592 ,\n",
       "       -0.62512151, -1.79376902, -0.05743541,  0.01229698,  0.37897781,\n",
       "        1.00363003, -0.81471636, -0.0740796 ,  0.70684   , -0.81106838,\n",
       "       -0.22206781, -0.44569687, -1.04057264, -0.36083797, -0.31144596,\n",
       "        2.35583757,  0.37995196, -0.08935741,  0.09550084, -0.3611965 ,\n",
       "       -0.72827009,  0.20629946, -0.47571719, -0.07295277, -1.19068049,\n",
       "       -0.39590656, -2.08207558, -1.54357607,  1.61106666, -0.24168449,\n",
       "        0.65867291, -1.76599746, -0.2430897 ,  0.0814968 ,  1.00450503,\n",
       "       -1.55998331, -1.05233688, -0.68125258, -1.2254388 , -1.21845637,\n",
       "       -1.1169546 , -0.06292814,  0.26896157, -0.14884323, -0.54991439,\n",
       "        0.18841008, -0.99685851, -0.72564294, -1.58712654,  0.61115883,\n",
       "       -0.89746459, -1.50265594,  0.54520196, -0.33963457,  0.45696797,\n",
       "        0.4999302 , -0.79027333,  0.98132553,  0.43577063, -1.01671934,\n",
       "        1.20506115,  0.15367444,  1.1435988 ,  1.32368953,  1.06783612,\n",
       "        2.33826632,  1.78339696,  1.62399692,  0.05638801, -0.89865938,\n",
       "       -3.04787358,  0.382233  , -0.71542419,  1.13166428,  1.12237137,\n",
       "       -0.17505576,  0.34905523, -0.32292559, -0.52609947,  0.28110626,\n",
       "       -0.76437807, -0.08691736, -0.12359274,  1.19208911,  0.98811822,\n",
       "       -0.97125082, -0.10909282, -0.52468506, -0.55424982, -0.62107491,\n",
       "        0.8033445 , -0.18311778, -2.01851977, -0.15233547, -0.4143164 ])"
      ]
     },
     "execution_count": 1,
     "metadata": {},
     "output_type": "execute_result"
    }
   ],
   "source": [
    "import pandas as pd\n",
    "import numpy as np\n",
    "import matplotlib as mpl\n",
    "import seaborn as sns\n",
    "\n",
    "datos = np.random.randn(100)\n",
    "datos"
   ]
  },
  {
   "cell_type": "code",
   "execution_count": 2,
   "metadata": {},
   "outputs": [
    {
     "data": {
      "text/plain": [
       "<matplotlib.axes._subplots.AxesSubplot at 0x262786465c8>"
      ]
     },
     "execution_count": 2,
     "metadata": {},
     "output_type": "execute_result"
    },
    {
     "data": {
      "image/png": "[encoded data removed]",
      "text/plain": [
       "<Figure size 432x288 with 1 Axes>"
      ]
     },
     "metadata": {
      "needs_background": "light"
     },
     "output_type": "display_data"
    }
   ],
   "source": [
    "sns.boxplot(datos)"
   ]
  },
  {
   "cell_type": "code",
   "execution_count": null,
   "metadata": {},
   "outputs": [],
   "source": []
  }
 ],
 "metadata": {
  "kernelspec": {
   "display_name": "Python 3",
   "language": "python",
   "name": "python3"
  },
  "language_info": {
   "codemirror_mode": {
    "name": "ipython",
    "version": 3
   },
   "file_extension": ".py",
   "mimetype": "text/x-python",
   "name": "python",
   "nbconvert_exporter": "python",
   "pygments_lexer": "ipython3",
   "version": "3.7.7"
  }
 },
 "nbformat": 4,
 "nbformat_minor": 4
}
