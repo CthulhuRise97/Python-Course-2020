{
 "cells": [
  {
   "cell_type": "code",
   "execution_count": 1,
   "metadata": {},
   "outputs": [],
   "source": [
    "#Ejercicio 1\n",
    "#Crear un modulo llamado \"modulo1.py\"\n",
    "#Añada la funcion \"coche\" creada en un ejercicio anterior al \"modulo1\"\n",
    "#Añada la funcion lambda \"media\" creada en un ejercicio anterior al modulo \"modulo1\"\n",
    "#\n",
    "#Crear un programa en python llamado \"programa1.py\"\n",
    "#Importar el modulo \"modulo1\" antes creado\n",
    "#Crear el objeto \"coche1\" al instanciar las clase \"coche\"\n",
    "#Mediante print mostrar las caracteristicas del coche\n",
    "#Calcular la media de 3 notas y mostrar el resultado con print\n",
    "#\n",
    "#Ejecutar el programa \"programa1.py\" y ver el resultado"
   ]
  },
  {
   "cell_type": "code",
   "execution_count": null,
   "metadata": {},
   "outputs": [],
   "source": []
  }
 ],
 "metadata": {
  "kernelspec": {
   "display_name": "Python 3",
   "language": "python",
   "name": "python3"
  },
  "language_info": {
   "codemirror_mode": {
    "name": "ipython",
    "version": 3
   },
   "file_extension": ".py",
   "mimetype": "text/x-python",
   "name": "python",
   "nbconvert_exporter": "python",
   "pygments_lexer": "ipython3",
   "version": "3.7.7"
  }
 },
 "nbformat": 4,
 "nbformat_minor": 4
}
