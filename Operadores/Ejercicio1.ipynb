{
 "cells": [
  {
   "cell_type": "code",
   "execution_count": 1,
   "metadata": {},
   "outputs": [],
   "source": [
    "#Ejercicio\n",
    "#Crear una variable \"nota1\" que tenga el valor 6\n",
    "#Crear una variable \"nota2\" que tenga el valor 4\n",
    "#Crear una variable \"nota3\" que tenga el valor 7\n",
    "#Crear una variable \"nota_media\" que tenga el valor medio de las tres variables anteriores\n",
    "#Crear una variable \"nota_final\" que tenga el valor \"aprobado\" (mayor o igual a 5)"
   ]
  },
  {
   "cell_type": "code",
   "execution_count": 2,
   "metadata": {},
   "outputs": [
    {
     "name": "stdout",
     "output_type": "stream",
     "text": [
      "aprobado\n"
     ]
    }
   ],
   "source": [
    "nota1 = 6\n",
    "nota2 = 4\n",
    "nota3 = 7\n",
    "nota_media = nota1 + nota2 + nota3 / 3\n",
    "if nota_media >= 5:\n",
    "    nota_final = \"aprobado\"\n",
    "    print(nota_final)"
   ]
  },
  {
   "cell_type": "code",
   "execution_count": null,
   "metadata": {},
   "outputs": [],
   "source": []
  }
 ],
 "metadata": {
  "kernelspec": {
   "display_name": "Python 3",
   "language": "python",
   "name": "python3"
  },
  "language_info": {
   "codemirror_mode": {
    "name": "ipython",
    "version": 3
   },
   "file_extension": ".py",
   "mimetype": "text/x-python",
   "name": "python",
   "nbconvert_exporter": "python",
   "pygments_lexer": "ipython3",
   "version": "3.7.7"
  }
 },
 "nbformat": 4,
 "nbformat_minor": 4
}
