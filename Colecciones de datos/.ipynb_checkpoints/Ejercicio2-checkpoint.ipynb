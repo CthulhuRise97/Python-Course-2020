{
 "cells": [
  {
   "cell_type": "code",
   "execution_count": 1,
   "metadata": {},
   "outputs": [],
   "source": [
    "#Ejercicio 2\n",
    "#Crear una variable \"nota\" que tenga el valor 4.5\n",
    "#Crear una variable \"trabajo_finalizado\" que tenga el valor de \"si\"\n",
    "#Calcaular el valor de la variable \"nota_final\", teniendo en cuenta que, si la nota_final es mayor o igual a 4, y el\n",
    "#valor de la variable \"trabajo_realizado\" es igual a \"si\", entonces \"nota final\" será igual a \"aprobado\", en caso\n",
    "#contrario será igual a \"suspenso\"."
   ]
  },
  {
   "cell_type": "code",
   "execution_count": 4,
   "metadata": {},
   "outputs": [
    {
     "name": "stdout",
     "output_type": "stream",
     "text": [
      "aprobado\n"
     ]
    }
   ],
   "source": [
    "nota = 4.5\n",
    "trabajo_final = \"si\"\n",
    "if(nota >= 4.5) and (trabajo_final == \"si\"):\n",
    "    nota_final = \"aprobado\"\n",
    "else:\n",
    "    nota_final = \"suspenso\"\n",
    "    \n",
    "print(nota_final)"
   ]
  },
  {
   "cell_type": "code",
   "execution_count": null,
   "metadata": {},
   "outputs": [],
   "source": []
  }
 ],
 "metadata": {
  "kernelspec": {
   "display_name": "Python 3",
   "language": "python",
   "name": "python3"
  },
  "language_info": {
   "codemirror_mode": {
    "name": "ipython",
    "version": 3
   },
   "file_extension": ".py",
   "mimetype": "text/x-python",
   "name": "python",
   "nbconvert_exporter": "python",
   "pygments_lexer": "ipython3",
   "version": "3.7.7"
  }
 },
 "nbformat": 4,
 "nbformat_minor": 4
}
