{
 "cells": [
  {
   "cell_type": "code",
   "execution_count": 1,
   "metadata": {},
   "outputs": [],
   "source": [
    "#Ejercicio 1\n",
    "#Crear la funcion \"buscar\" que mediante una expresión regular indique si una palabra está en una frase.\n",
    "#\n",
    "#Probar la función \"buscar\" con estas frases:\n",
    "#    texto = \"Esto es una frase de prueba para hacer búsquedas\"\n",
    "#    palabra_a_buscar = \"frase\"\n",
    "#En caso de encontrarla indicar la posicion en que empieza y en la cual finaliza"
   ]
  },
  {
   "cell_type": "code",
   "execution_count": 16,
   "metadata": {},
   "outputs": [],
   "source": [
    "import re\n",
    "\n",
    "def buscar(frase,texto):\n",
    "    try:\n",
    "        resultado = re.search(frase,texto)\n",
    "        print(resultado)\n",
    "    except:\n",
    "        print(\"se presentó un error\")\n",
    "    finally:\n",
    "        print(\"la búsqueda finalizó\")"
   ]
  },
  {
   "cell_type": "code",
   "execution_count": 17,
   "metadata": {},
   "outputs": [
    {
     "name": "stdout",
     "output_type": "stream",
     "text": [
      "<re.Match object; span=(12, 17), match='frase'>\n",
      "la búsqueda finalizó\n"
     ]
    }
   ],
   "source": [
    "texto = \"Esto es una frase de prueba para hacer búsquedas\"\n",
    "frase = \"frase\"\n",
    "buscar(frase,texto)"
   ]
  },
  {
   "cell_type": "code",
   "execution_count": null,
   "metadata": {},
   "outputs": [],
   "source": []
  }
 ],
 "metadata": {
  "kernelspec": {
   "display_name": "Python 3",
   "language": "python",
   "name": "python3"
  },
  "language_info": {
   "codemirror_mode": {
    "name": "ipython",
    "version": 3
   },
   "file_extension": ".py",
   "mimetype": "text/x-python",
   "name": "python",
   "nbconvert_exporter": "python",
   "pygments_lexer": "ipython3",
   "version": "3.7.7"
  }
 },
 "nbformat": 4,
 "nbformat_minor": 4
}
