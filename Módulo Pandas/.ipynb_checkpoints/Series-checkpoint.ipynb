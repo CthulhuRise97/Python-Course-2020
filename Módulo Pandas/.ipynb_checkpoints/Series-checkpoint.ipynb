{
 "cells": [
  {
   "cell_type": "code",
   "execution_count": 4,
   "metadata": {},
   "outputs": [
    {
     "data": {
      "text/plain": [
       "0    3\n",
       "1    5\n",
       "2    7\n",
       "dtype: int64"
      ]
     },
     "execution_count": 4,
     "metadata": {},
     "output_type": "execute_result"
    }
   ],
   "source": [
    "import pandas as pd\n",
    "\n",
    "serie1 = pd.Series([3,5,7])\n",
    "serie1"
   ]
  },
  {
   "cell_type": "code",
   "execution_count": 5,
   "metadata": {},
   "outputs": [
    {
     "data": {
      "text/plain": [
       "5"
      ]
     },
     "execution_count": 5,
     "metadata": {},
     "output_type": "execute_result"
    }
   ],
   "source": [
    "serie1[1]"
   ]
  },
  {
   "cell_type": "code",
   "execution_count": 8,
   "metadata": {},
   "outputs": [
    {
     "data": {
      "text/plain": [
       "matematicas    8\n",
       "historia       6\n",
       "fisica         9\n",
       "literatura     7\n",
       "dtype: int64"
      ]
     },
     "execution_count": 8,
     "metadata": {},
     "output_type": "execute_result"
    }
   ],
   "source": [
    "asignaturas = ['matematicas','historia','fisica','literatura']\n",
    "notas = [8,6,9,7]\n",
    "serie_notas_asignaturas = pd.Series(notas,index=asignaturas)\n",
    "serie_notas_asignaturas"
   ]
  },
  {
   "cell_type": "code",
   "execution_count": 9,
   "metadata": {},
   "outputs": [
    {
     "data": {
      "text/plain": [
       "9"
      ]
     },
     "execution_count": 9,
     "metadata": {},
     "output_type": "execute_result"
    }
   ],
   "source": [
    "serie_notas_asignaturas['fisica']"
   ]
  },
  {
   "cell_type": "code",
   "execution_count": 11,
   "metadata": {},
   "outputs": [
    {
     "data": {
      "text/plain": [
       "matematicas    8\n",
       "fisica         9\n",
       "dtype: int64"
      ]
     },
     "execution_count": 11,
     "metadata": {},
     "output_type": "execute_result"
    }
   ],
   "source": [
    "serie_notas_asignaturas[serie_notas_asignaturas >= 8]"
   ]
  },
  {
   "cell_type": "code",
   "execution_count": 13,
   "metadata": {},
   "outputs": [],
   "source": [
    "serie_notas_asignaturas.index.name = 'Asignaturas:'"
   ]
  },
  {
   "cell_type": "code",
   "execution_count": 15,
   "metadata": {},
   "outputs": [
    {
     "data": {
      "text/plain": [
       "Asignaturas:\n",
       "matematicas    8\n",
       "historia       6\n",
       "fisica         9\n",
       "literatura     7\n",
       "dtype: int64"
      ]
     },
     "execution_count": 15,
     "metadata": {},
     "output_type": "execute_result"
    }
   ],
   "source": [
    "serie_notas_asignaturas"
   ]
  },
  {
   "cell_type": "code",
   "execution_count": 16,
   "metadata": {},
   "outputs": [
    {
     "data": {
      "text/plain": [
       "{'matematicas': 8, 'historia': 6, 'fisica': 9, 'literatura': 7}"
      ]
     },
     "execution_count": 16,
     "metadata": {},
     "output_type": "execute_result"
    }
   ],
   "source": [
    "Diccionario = serie_notas_asignaturas.to_dict()\n",
    "Diccionario"
   ]
  },
  {
   "cell_type": "code",
   "execution_count": 20,
   "metadata": {},
   "outputs": [
    {
     "data": {
      "text/plain": [
       "matematicas    8\n",
       "historia       6\n",
       "fisica         9\n",
       "literatura     7\n",
       "dtype: int64"
      ]
     },
     "execution_count": 20,
     "metadata": {},
     "output_type": "execute_result"
    }
   ],
   "source": [
    "serie = pd.Series(Diccionario)\n",
    "serie"
   ]
  },
  {
   "cell_type": "code",
   "execution_count": 22,
   "metadata": {},
   "outputs": [
    {
     "data": {
      "text/plain": [
       "Asignaturas:\n",
       "matematicas    8\n",
       "historia       6\n",
       "fisica         9\n",
       "literatura     7\n",
       "dtype: int64"
      ]
     },
     "execution_count": 22,
     "metadata": {},
     "output_type": "execute_result"
    }
   ],
   "source": [
    "serie_notas_asignaturas"
   ]
  },
  {
   "cell_type": "code",
   "execution_count": 24,
   "metadata": {},
   "outputs": [
    {
     "data": {
      "text/plain": [
       "Asignaturas generales\n",
       "matematicas    8.5\n",
       "historia       8.0\n",
       "fisica         6.5\n",
       "literatura     6.0\n",
       "dtype: float64"
      ]
     },
     "execution_count": 24,
     "metadata": {},
     "output_type": "execute_result"
    }
   ],
   "source": [
    "asignaturas1 = ['matematicas','historia','fisica','literatura']\n",
    "notas1 = [8,6,9,7]\n",
    "serie_notas_asignaturas1 = pd.Series(notas1,index=asignaturas1)\n",
    "serie_notas_asignaturas1.index.name = 'Asignaturas 1:'\n",
    "serie_notas_asignaturas1\n",
    "\n",
    "asignaturas2 = ['matematicas','historia','fisica','literatura']\n",
    "notas2 = [9,10,4,5]\n",
    "serie_notas_asignaturas2 = pd.Series(notas2,index=asignaturas2)\n",
    "serie_notas_asignaturas2.index.name = 'Asignaturas 2:'\n",
    "serie_notas_asignaturas2\n",
    "\n",
    "serie_notas_general = (serie_notas_asignaturas1 + serie_notas_asignaturas2) / 2\n",
    "serie_notas_general.index.name = 'Asignaturas generales'\n",
    "serie_notas_general"
   ]
  },
  {
   "cell_type": "code",
   "execution_count": null,
   "metadata": {},
   "outputs": [],
   "source": []
  }
 ],
 "metadata": {
  "kernelspec": {
   "display_name": "Python 3",
   "language": "python",
   "name": "python3"
  },
  "language_info": {
   "codemirror_mode": {
    "name": "ipython",
    "version": 3
   },
   "file_extension": ".py",
   "mimetype": "text/x-python",
   "name": "python",
   "nbconvert_exporter": "python",
   "pygments_lexer": "ipython3",
   "version": "3.7.7"
  }
 },
 "nbformat": 4,
 "nbformat_minor": 4
}
