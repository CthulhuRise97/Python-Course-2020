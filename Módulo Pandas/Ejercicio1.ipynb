{
 "cells": [
  {
   "cell_type": "code",
   "execution_count": 1,
   "metadata": {},
   "outputs": [],
   "source": [
    "#Ejercicio 1\n",
    "#Teniendo tres clases: clase1, clase2, clase3.\n",
    "#Generar un numero aleatoriode alumno por clase.\n",
    "#Para obtener el numero utilizar:\n",
    "#    np.random.randint(minimo,maximo,numero)\n",
    "#Crear una serie de clases y alumnos\n",
    "#Utilizar el indice de la serie creada para saber el numero de alumno de la clase2"
   ]
  },
  {
   "cell_type": "code",
   "execution_count": 2,
   "metadata": {},
   "outputs": [],
   "source": [
    "import numpy as np\n",
    "import pandas as pd\n",
    "\n",
    "minimo = 10\n",
    "maximo = 40\n",
    "numero = 3\n",
    "\n",
    "alumnos = np.random.randint(minimo,maximo,numero)\n",
    "clases = ['clase1','clase2','clase3']\n",
    "\n",
    "serie = pd.Series(alumnos,index=clases)"
   ]
  },
  {
   "cell_type": "code",
   "execution_count": 3,
   "metadata": {},
   "outputs": [
    {
     "data": {
      "text/plain": [
       "35"
      ]
     },
     "execution_count": 3,
     "metadata": {},
     "output_type": "execute_result"
    }
   ],
   "source": [
    "serie['clase2']"
   ]
  },
  {
   "cell_type": "code",
   "execution_count": null,
   "metadata": {},
   "outputs": [],
   "source": []
  }
 ],
 "metadata": {
  "kernelspec": {
   "display_name": "Python 3",
   "language": "python",
   "name": "python3"
  },
  "language_info": {
   "codemirror_mode": {
    "name": "ipython",
    "version": 3
   },
   "file_extension": ".py",
   "mimetype": "text/x-python",
   "name": "python",
   "nbconvert_exporter": "python",
   "pygments_lexer": "ipython3",
   "version": "3.7.7"
  }
 },
 "nbformat": 4,
 "nbformat_minor": 4
}
