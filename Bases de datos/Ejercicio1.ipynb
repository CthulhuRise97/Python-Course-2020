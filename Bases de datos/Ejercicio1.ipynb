{
 "cells": [
  {
   "cell_type": "code",
   "execution_count": 1,
   "metadata": {},
   "outputs": [],
   "source": [
    "#Ejercicio 1\n",
    "#Crear una base de datos llamada \"basededatos.db\"\n",
    "#Crear la tabla \"productos\" con tres campos\n",
    "#    id: Identificador del producto numerico\n",
    "#    nombre: Nombre del producto como texto\n",
    "#    precio: precio del producto como numerico\n",
    "#\n",
    "#Insertar 3 productos en la tabla \"productos\"\n",
    "#    1,\"Impresora\",300\n",
    "#    2,\"Raton\", 20\n",
    "#    3,\"Ordenador\",600\n",
    "#\n",
    "#Consultar los productos de la tabla \"productos\"\n",
    "#Cerrar la base de datos \"basededatos.db\""
   ]
  },
  {
   "cell_type": "code",
   "execution_count": null,
   "metadata": {},
   "outputs": [],
   "source": []
  }
 ],
 "metadata": {
  "kernelspec": {
   "display_name": "Python 3",
   "language": "python",
   "name": "python3"
  },
  "language_info": {
   "codemirror_mode": {
    "name": "ipython",
    "version": 3
   },
   "file_extension": ".py",
   "mimetype": "text/x-python",
   "name": "python",
   "nbconvert_exporter": "python",
   "pygments_lexer": "ipython3",
   "version": "3.7.7"
  }
 },
 "nbformat": 4,
 "nbformat_minor": 4
}
