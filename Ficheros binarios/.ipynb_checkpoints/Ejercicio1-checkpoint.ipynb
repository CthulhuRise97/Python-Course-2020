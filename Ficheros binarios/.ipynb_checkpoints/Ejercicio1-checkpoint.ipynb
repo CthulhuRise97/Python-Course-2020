{
 "cells": [
  {
   "cell_type": "code",
   "execution_count": null,
   "metadata": {},
   "outputs": [],
   "source": [
    "#Ejercicio 1\n",
    "#Crear un diccionario llamado \"frutas\"\n",
    "#frutas = {\"manzana\":\"apple\", \"naranja\":\"orange\",\"platano\":\"banana\",\"limon\":\"lemon\"}\n",
    "#\n",
    "#Grabar esta estructura de datos en un fichero binario \"frutas.pckl\"\n",
    "#Ya que en un fichero de texto, solo se guardan caracteres, pero no se pueden guardar estas estructuras\n",
    "#\n",
    "#Recuperar la estructura de datos del fichero \"frutas.pckl\"\n",
    "#Verificar que sigue siendo un diccionario, ejecutar el método .values"
   ]
  }
 ],
 "metadata": {
  "kernelspec": {
   "display_name": "Python 3",
   "language": "python",
   "name": "python3"
  },
  "language_info": {
   "codemirror_mode": {
    "name": "ipython",
    "version": 3
   },
   "file_extension": ".py",
   "mimetype": "text/x-python",
   "name": "python",
   "nbconvert_exporter": "python",
   "pygments_lexer": "ipython3",
   "version": "3.7.7"
  }
 },
 "nbformat": 4,
 "nbformat_minor": 4
}
