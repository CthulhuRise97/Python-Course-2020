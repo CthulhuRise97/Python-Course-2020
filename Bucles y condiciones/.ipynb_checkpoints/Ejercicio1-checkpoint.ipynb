{
 "cells": [
  {
   "cell_type": "code",
   "execution_count": 1,
   "metadata": {},
   "outputs": [],
   "source": [
    "#Ejercicio 1\n",
    "#Crea un diccionario con los sigueintes valores:\n",
    "#    manzana, apple\n",
    "#    naranja, orange\n",
    "#    platano, banana\n",
    "#    limon, lemon\n",
    "#Muestra la traduccion para la palabra naranja\n",
    "#Añade un elemento nuevo como \"piña\" y \"pineapple\"\n",
    "#Haz un bucle para mostrar todos los elementos del diccionario"
   ]
  },
  {
   "cell_type": "code",
   "execution_count": 2,
   "metadata": {},
   "outputs": [],
   "source": [
    "diccionario = {\"manzana\":\"apple\",\"naranja\":\"orange\",\"platano\":\"banana\",\"limon\":\"lemon\"}"
   ]
  },
  {
   "cell_type": "code",
   "execution_count": 3,
   "metadata": {},
   "outputs": [
    {
     "name": "stdout",
     "output_type": "stream",
     "text": [
      "orange\n"
     ]
    }
   ],
   "source": [
    "print(diccionario[\"naranja\"])"
   ]
  },
  {
   "cell_type": "code",
   "execution_count": 4,
   "metadata": {},
   "outputs": [],
   "source": [
    "diccionario[\"piña\"] = \"pineapple\""
   ]
  },
  {
   "cell_type": "code",
   "execution_count": 5,
   "metadata": {},
   "outputs": [
    {
     "name": "stdout",
     "output_type": "stream",
     "text": [
      "manzana\n",
      "naranja\n",
      "platano\n",
      "limon\n",
      "piña\n"
     ]
    }
   ],
   "source": [
    "for fruta in diccionario:\n",
    "    print(fruta)"
   ]
  },
  {
   "cell_type": "code",
   "execution_count": 7,
   "metadata": {},
   "outputs": [
    {
     "name": "stdout",
     "output_type": "stream",
     "text": [
      "manzana apple\n",
      "naranja orange\n",
      "platano banana\n",
      "limon lemon\n",
      "piña pineapple\n"
     ]
    }
   ],
   "source": [
    "for fruta,trad in diccionario.items():\n",
    "    print(fruta,trad)"
   ]
  },
  {
   "cell_type": "code",
   "execution_count": null,
   "metadata": {},
   "outputs": [],
   "source": []
  }
 ],
 "metadata": {
  "kernelspec": {
   "display_name": "Python 3",
   "language": "python",
   "name": "python3"
  },
  "language_info": {
   "codemirror_mode": {
    "name": "ipython",
    "version": 3
   },
   "file_extension": ".py",
   "mimetype": "text/x-python",
   "name": "python",
   "nbconvert_exporter": "python",
   "pygments_lexer": "ipython3",
   "version": "3.7.7"
  }
 },
 "nbformat": 4,
 "nbformat_minor": 4
}
