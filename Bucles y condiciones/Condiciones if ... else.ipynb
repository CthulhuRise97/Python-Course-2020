{
 "cells": [
  {
   "cell_type": "code",
   "execution_count": 1,
   "metadata": {},
   "outputs": [
    {
     "data": {
      "text/plain": [
       "True"
      ]
     },
     "execution_count": 1,
     "metadata": {},
     "output_type": "execute_result"
    }
   ],
   "source": [
    "a = 8\n",
    "b = 4\n",
    "a > b"
   ]
  },
  {
   "cell_type": "code",
   "execution_count": 2,
   "metadata": {},
   "outputs": [
    {
     "data": {
      "text/plain": [
       "False"
      ]
     },
     "execution_count": 2,
     "metadata": {},
     "output_type": "execute_result"
    }
   ],
   "source": [
    "a < b"
   ]
  },
  {
   "cell_type": "code",
   "execution_count": 3,
   "metadata": {},
   "outputs": [
    {
     "name": "stdout",
     "output_type": "stream",
     "text": [
      "a mayor a b\n"
     ]
    }
   ],
   "source": [
    "if (a > b):\n",
    "    print(\"a mayor a b\")"
   ]
  },
  {
   "cell_type": "code",
   "execution_count": 4,
   "metadata": {},
   "outputs": [],
   "source": [
    "if (a < b):\n",
    "    print(\"a mayor a b\")"
   ]
  },
  {
   "cell_type": "code",
   "execution_count": 5,
   "metadata": {},
   "outputs": [
    {
     "name": "stdout",
     "output_type": "stream",
     "text": [
      "la expresion es correcta\n"
     ]
    }
   ],
   "source": [
    "c = 2\n",
    "d = 6\n",
    "if (a > c) and (b < d):\n",
    "    print(\"la expresion es correcta\")"
   ]
  },
  {
   "cell_type": "code",
   "execution_count": 6,
   "metadata": {},
   "outputs": [],
   "source": [
    "if (a > c) and (b > d):\n",
    "    print(\"la expresion es correcta\")"
   ]
  },
  {
   "cell_type": "code",
   "execution_count": 7,
   "metadata": {},
   "outputs": [
    {
     "name": "stdout",
     "output_type": "stream",
     "text": [
      "la primera expresion no es correcta\n"
     ]
    }
   ],
   "source": [
    "if (a > c) and (b > d):\n",
    "    print(\"la expresion es correcta\")\n",
    "else:\n",
    "    print(\"la primera expresion no es correcta\")"
   ]
  },
  {
   "cell_type": "code",
   "execution_count": 9,
   "metadata": {},
   "outputs": [
    {
     "name": "stdout",
     "output_type": "stream",
     "text": [
      "a es mayor que b\n"
     ]
    }
   ],
   "source": [
    "if(a > b):\n",
    "    print(\"a es mayor que b\")\n",
    "elif (a == b):\n",
    "    print(\"a es igual a b\")\n",
    "else:\n",
    "    print(\"ninguna expresion anterior es correcta\")"
   ]
  },
  {
   "cell_type": "code",
   "execution_count": 10,
   "metadata": {},
   "outputs": [
    {
     "name": "stdout",
     "output_type": "stream",
     "text": [
      "a es igual a b\n"
     ]
    }
   ],
   "source": [
    "a = 8\n",
    "b = 8\n",
    "\n",
    "if(a > b):\n",
    "    print(\"a es mayor que b\")\n",
    "elif (a == b):\n",
    "    print(\"a es igual a b\")\n",
    "else:\n",
    "    print(\"ninguna expresion anterior es correcta\")"
   ]
  },
  {
   "cell_type": "code",
   "execution_count": 11,
   "metadata": {},
   "outputs": [
    {
     "name": "stdout",
     "output_type": "stream",
     "text": [
      "ninguna expresion anterior es correcta\n"
     ]
    }
   ],
   "source": [
    "a = 8\n",
    "b = 10\n",
    "\n",
    "if(a > b):\n",
    "    print(\"a es mayor que b\")\n",
    "elif (a == b):\n",
    "    print(\"a es igual a b\")\n",
    "else:\n",
    "    print(\"ninguna expresion anterior es correcta\")"
   ]
  },
  {
   "cell_type": "code",
   "execution_count": null,
   "metadata": {},
   "outputs": [],
   "source": []
  }
 ],
 "metadata": {
  "kernelspec": {
   "display_name": "Python 3",
   "language": "python",
   "name": "python3"
  },
  "language_info": {
   "codemirror_mode": {
    "name": "ipython",
    "version": 3
   },
   "file_extension": ".py",
   "mimetype": "text/x-python",
   "name": "python",
   "nbconvert_exporter": "python",
   "pygments_lexer": "ipython3",
   "version": "3.7.7"
  }
 },
 "nbformat": 4,
 "nbformat_minor": 4
}
