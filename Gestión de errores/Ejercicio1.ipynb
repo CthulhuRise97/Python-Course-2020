{
 "cells": [
  {
   "cell_type": "code",
   "execution_count": 1,
   "metadata": {},
   "outputs": [],
   "source": [
    "#Ejercicio 1\n",
    "#Crear la funcion \"operacion\" que dados tres números, divida el primer número entre la resta de los otros dos números\n",
    "#\n",
    "#Utilizar la funcion creada con los números 5,4,2\n",
    "#Utilizar la funcion creada con los números 6,3,3\n",
    "#\n",
    "#Utilizar el bloque try ... except para controlar cualquier posible error"
   ]
  },
  {
   "cell_type": "code",
   "execution_count": 3,
   "metadata": {},
   "outputs": [],
   "source": [
    "def funcion(n1,n2,n3):\n",
    "    try:\n",
    "        resultado = n1/(n2-n3)\n",
    "        print(resultado)\n",
    "    except ZeroDivisionError:\n",
    "        print(\"No es posible dividir entre cero\")\n",
    "    except:\n",
    "        print(\"Hubo un error\")\n",
    "    else:\n",
    "        print(\"Sin errores\")\n",
    "    finally:\n",
    "        print(\"prueba finalizada\")"
   ]
  },
  {
   "cell_type": "code",
   "execution_count": 4,
   "metadata": {},
   "outputs": [
    {
     "name": "stdout",
     "output_type": "stream",
     "text": [
      "2.5\n",
      "Sin errores\n",
      "prueba finalizada\n"
     ]
    }
   ],
   "source": [
    "funcion(5,4,2)"
   ]
  },
  {
   "cell_type": "code",
   "execution_count": 5,
   "metadata": {},
   "outputs": [
    {
     "name": "stdout",
     "output_type": "stream",
     "text": [
      "No es posible dividir entre cero\n",
      "prueba finalizada\n"
     ]
    }
   ],
   "source": [
    "funcion(6,3,3)"
   ]
  },
  {
   "cell_type": "code",
   "execution_count": null,
   "metadata": {},
   "outputs": [],
   "source": []
  }
 ],
 "metadata": {
  "kernelspec": {
   "display_name": "Python 3",
   "language": "python",
   "name": "python3"
  },
  "language_info": {
   "codemirror_mode": {
    "name": "ipython",
    "version": 3
   },
   "file_extension": ".py",
   "mimetype": "text/x-python",
   "name": "python",
   "nbconvert_exporter": "python",
   "pygments_lexer": "ipython3",
   "version": "3.7.7"
  }
 },
 "nbformat": 4,
 "nbformat_minor": 4
}
