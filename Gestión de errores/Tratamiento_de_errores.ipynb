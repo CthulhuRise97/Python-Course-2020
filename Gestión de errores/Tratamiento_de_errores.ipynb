{
 "cells": [
  {
   "cell_type": "code",
   "execution_count": 1,
   "metadata": {},
   "outputs": [
    {
     "ename": "ZeroDivisionError",
     "evalue": "division by zero",
     "output_type": "error",
     "traceback": [
      "\u001b[1;31m---------------------------------------------------------------------------\u001b[0m",
      "\u001b[1;31mZeroDivisionError\u001b[0m                         Traceback (most recent call last)",
      "\u001b[1;32m<ipython-input-1-cd2860e100b6>\u001b[0m in \u001b[0;36m<module>\u001b[1;34m\u001b[0m\n\u001b[0;32m      1\u001b[0m \u001b[0mnumero1\u001b[0m \u001b[1;33m=\u001b[0m \u001b[1;36m5\u001b[0m\u001b[1;33m\u001b[0m\u001b[1;33m\u001b[0m\u001b[0m\n\u001b[0;32m      2\u001b[0m \u001b[0mnumero2\u001b[0m \u001b[1;33m=\u001b[0m \u001b[1;36m0\u001b[0m\u001b[1;33m\u001b[0m\u001b[1;33m\u001b[0m\u001b[0m\n\u001b[1;32m----> 3\u001b[1;33m \u001b[0mdivision\u001b[0m \u001b[1;33m=\u001b[0m \u001b[0mnumero1\u001b[0m \u001b[1;33m/\u001b[0m \u001b[0mnumero2\u001b[0m\u001b[1;33m\u001b[0m\u001b[1;33m\u001b[0m\u001b[0m\n\u001b[0m",
      "\u001b[1;31mZeroDivisionError\u001b[0m: division by zero"
     ]
    }
   ],
   "source": [
    "numero1 = 5\n",
    "numero2 = 0\n",
    "division = numero1 / numero2"
   ]
  },
  {
   "cell_type": "code",
   "execution_count": 4,
   "metadata": {},
   "outputs": [
    {
     "name": "stdout",
     "output_type": "stream",
     "text": [
      "No es posible dividir entre cero\n"
     ]
    }
   ],
   "source": [
    "try:\n",
    "    numero1 = 5\n",
    "    numero2 = 0\n",
    "    division = numero1 / numero2\n",
    "    print(division)\n",
    "except:\n",
    "    print(\"No es posible dividir entre cero\")"
   ]
  },
  {
   "cell_type": "code",
   "execution_count": 7,
   "metadata": {},
   "outputs": [
    {
     "name": "stdout",
     "output_type": "stream",
     "text": [
      "2.5\n",
      "Sin errores\n"
     ]
    }
   ],
   "source": [
    "try:\n",
    "    numero1 = 5\n",
    "    numero2 = 2\n",
    "    division = numero1 / numero2\n",
    "    print(division)\n",
    "except ZeroDivisionError:\n",
    "    print(\"No es posible dividir entre cero\")\n",
    "except:\n",
    "    print(\"Hubo un error\")\n",
    "else:\n",
    "    print(\"Sin errores\")"
   ]
  },
  {
   "cell_type": "code",
   "execution_count": 8,
   "metadata": {},
   "outputs": [
    {
     "name": "stdout",
     "output_type": "stream",
     "text": [
      "2.5\n",
      "Sin errores\n",
      "prueba finalizada\n"
     ]
    }
   ],
   "source": [
    "try:\n",
    "    numero1 = 5\n",
    "    numero2 = 2\n",
    "    division = numero1 / numero2\n",
    "    print(division)\n",
    "except ZeroDivisionError:\n",
    "    print(\"No es posible dividir entre cero\")\n",
    "except:\n",
    "    print(\"Hubo un error\")\n",
    "else:\n",
    "    print(\"Sin errores\")\n",
    "finally:\n",
    "    print(\"prueba finalizada\")"
   ]
  }
 ],
 "metadata": {
  "kernelspec": {
   "display_name": "Python 3",
   "language": "python",
   "name": "python3"
  },
  "language_info": {
   "codemirror_mode": {
    "name": "ipython",
    "version": 3
   },
   "file_extension": ".py",
   "mimetype": "text/x-python",
   "name": "python",
   "nbconvert_exporter": "python",
   "pygments_lexer": "ipython3",
   "version": "3.7.7"
  }
 },
 "nbformat": 4,
 "nbformat_minor": 4
}
