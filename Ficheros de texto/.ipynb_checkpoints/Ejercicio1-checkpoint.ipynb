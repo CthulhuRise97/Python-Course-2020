{
 "cells": [
  {
   "cell_type": "code",
   "execution_count": 1,
   "metadata": {},
   "outputs": [],
   "source": [
    "#Ejercicio 1\n",
    "#Crear el modulo \"modulofichero.py\"\n",
    "#    Crear la clase \"Fichero\"\n",
    "#    Crear la funcion \"leer_fichero\" para leer de un fichero de texto\n",
    "#    Crear la funcion \"grabar_fichero\" para grabar un fichero de texto\n",
    "#    Crear la funcion \"incluir_fichero\" para incluir datos al final de un fichero de texto\n",
    "#\n",
    "#Crear programa \"programa1.py\"\n",
    "#    Crear el objeto \"fichero\" de la clase \"Fichero\" del modulo \"modulofichero.py\"\n",
    "#    Utiliza el método \"grabar_fichero\" del objeto \"fichero\" para crear un nuevo fichero de texto\n",
    "#    Utiliza el método \"incluir_fichero\" para incorporar más datos al final del fichero\n",
    "#    Utiliza el método \"leer_fichero\" para ver todo el contenido del fichero\n",
    "#\n",
    "#Ejecuta el programa \"programa1.py\" desde la terminal de comandos"
   ]
  },
  {
   "cell_type": "code",
   "execution_count": null,
   "metadata": {},
   "outputs": [],
   "source": []
  }
 ],
 "metadata": {
  "kernelspec": {
   "display_name": "Python 3",
   "language": "python",
   "name": "python3"
  },
  "language_info": {
   "codemirror_mode": {
    "name": "ipython",
    "version": 3
   },
   "file_extension": ".py",
   "mimetype": "text/x-python",
   "name": "python",
   "nbconvert_exporter": "python",
   "pygments_lexer": "ipython3",
   "version": "3.7.7"
  }
 },
 "nbformat": 4,
 "nbformat_minor": 4
}
